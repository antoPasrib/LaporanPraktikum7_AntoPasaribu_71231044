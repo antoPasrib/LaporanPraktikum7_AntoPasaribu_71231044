{
 "cells": [
  {
   "cell_type": "code",
   "execution_count": 2,
   "id": "67843889",
   "metadata": {},
   "outputs": [
    {
     "name": "stdout",
     "output_type": "stream",
     "text": [
      "Masukkan bilangan n: 21\n",
      "Bilangan 19 adalah prima terdekat dari 21.\n"
     ]
    }
   ],
   "source": [
    "n = int(input(\"Masukkan bilangan n: \"))\n",
    "\n",
    "prima = None\n",
    "for i in range(n - 1, 1, -1):  \n",
    "    bilangan_prima = True\n",
    "    if i <= 1:\n",
    "        bilangan_prima = False\n",
    "    elif i == 2:\n",
    "        bilangan_prima = True\n",
    "    elif i % 2 == 0:\n",
    "        bilangan_prima = False\n",
    "    else:\n",
    "        for j in range(3, int(i**0.5) + 1, 2): \n",
    "            if i % j == 0:\n",
    "                bilangan_prima = False\n",
    "                break\n",
    "    if bilangan_prima:\n",
    "        prima = i\n",
    "        break\n",
    "\n",
    "if prima:\n",
    "    print(f\"Bilangan {prima} adalah prima terdekat dari {n}.\")\n",
    "else:\n",
    "    print(f\"Tidak ada bilangan prima yang kurang dari {n}.\")"
   ]
  },
  {
   "cell_type": "code",
   "execution_count": 3,
   "id": "94b1d87e",
   "metadata": {},
   "outputs": [
    {
     "name": "stdout",
     "output_type": "stream",
     "text": [
      "Masukkan nilai n: 6\n",
      "720 6 5 4 3 2 1 \n",
      "120 5 4 3 2 1 \n",
      "24 4 3 2 1 \n",
      "6 3 2 1 \n",
      "2 2 1 \n",
      "1 1 \n"
     ]
    }
   ],
   "source": [
    "n = int(input(\"Masukkan nilai n: \"))\n",
    "\n",
    "for i in range(n, 0, -1):\n",
    "    faktorial = 1\n",
    "    for j in range(1, i + 1):\n",
    "        faktorial *= j\n",
    "    \n",
    "    print(faktorial, end=\" \")\n",
    "    for k in range(i, 0, -1):\n",
    "        print(k, end=\" \")\n",
    "    print()"
   ]
  },
  {
   "cell_type": "code",
   "execution_count": 4,
   "id": "864dadaa",
   "metadata": {},
   "outputs": [
    {
     "name": "stdout",
     "output_type": "stream",
     "text": [
      "Masukkan tinggi: 5\n",
      "Masukkan lebar: 4\n",
      "1 2 3 4 \n",
      "5 6 7 8 \n",
      "9 10 11 12 \n",
      "13 14 15 16 \n",
      "17 18 19 20 \n"
     ]
    }
   ],
   "source": [
    "tinggi = int(input(\"Masukkan tinggi: \"))\n",
    "lebar = int(input(\"Masukkan lebar: \"))\n",
    "\n",
    "angka = 1\n",
    "\n",
    "for i in range(tinggi):\n",
    "    for j in range(lebar):\n",
    "        print(angka, end=\" \")\n",
    "        angka += 1\n",
    "    print()  "
   ]
  },
  {
   "cell_type": "code",
   "execution_count": null,
   "id": "902b23cb",
   "metadata": {},
   "outputs": [],
   "source": []
  }
 ],
 "metadata": {
  "kernelspec": {
   "display_name": "Python 3 (ipykernel)",
   "language": "python",
   "name": "python3"
  },
  "language_info": {
   "codemirror_mode": {
    "name": "ipython",
    "version": 3
   },
   "file_extension": ".py",
   "mimetype": "text/x-python",
   "name": "python",
   "nbconvert_exporter": "python",
   "pygments_lexer": "ipython3",
   "version": "3.11.5"
  }
 },
 "nbformat": 4,
 "nbformat_minor": 5
}
